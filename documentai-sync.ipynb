{
 "cells": [
  {
   "cell_type": "markdown",
   "id": "ed8b96e5",
   "metadata": {},
   "source": [
    "# Document AI Synchronous API\n",
    "This notebook shows you how use Python to make synchronous calls to the Document AI API"
   ]
  },
  {
   "cell_type": "markdown",
   "id": "38374146",
   "metadata": {},
   "source": [
    "You must replace the `processor_id` variable value in the the second cell with the appropriate value for the Processor ID of the Document AI processor that you want to use. The processor may not support all of the Document AI output properties. Entity data is only returned by processors that use specialized parsers for example. "
   ]
  },
  {
   "cell_type": "code",
   "execution_count": null,
   "id": "75122694",
   "metadata": {},
   "outputs": [],
   "source": [
    "from google.cloud import documentai_v1beta3 as documentai\n",
    "from google.cloud import storage\n",
    "from prettytable import PrettyTable\n",
    "\n",
    "project_id=%system gcloud config get-value core/project\n",
    "project_id=project_id[0]\n",
    "location = 'us'           # Replace with 'eu' if processor does not use 'us' location\n",
    "file_path = 'form.pdf'    # Replace this with the name of the pdf file to process if necessary\n"
   ]
  },
  {
   "cell_type": "code",
   "execution_count": null,
   "id": "08c43f2b",
   "metadata": {},
   "outputs": [],
   "source": [
    "# Set your Processor ID\n",
    "processor_id = '23c5443efe9f90b5' # TODO: Replace with a valid Processor ID "
   ]
  },
  {
   "cell_type": "code",
   "execution_count": null,
   "id": "fa16478a",
   "metadata": {},
   "outputs": [],
   "source": [
    "# Process Document Function\n",
    "def process_document(\n",
    "        project_id=project_id, location=location, \n",
    "        processor_id=processor_id,  file_path=file_path\n",
    "):\n",
    "    # Instantiates a client\n",
    "    client = documentai.DocumentProcessorServiceClient()\n",
    "    # The full resource name of the processor, e.g.:\n",
    "    # projects/project-id/locations/location/processor/processor-id\n",
    "    # You must create new processors in the Cloud Console first\n",
    "    name = f\"projects/{project_id}/locations/{location}/processors/{processor_id}\"\n",
    "    with open(file_path, \"rb\") as image:\n",
    "        image_content = image.read()\n",
    "    # Read the file into memory\n",
    "    document = {\"content\": image_content, \"mime_type\": \"application/pdf\"}\n",
    "    # Configure the process request\n",
    "    request = {\"name\": name, \"document\": document}\n",
    "    # Use the Document AI client to process the sample form\n",
    "    result = client.process_document(request=request)\n",
    "    return result.document"
   ]
  },
  {
   "cell_type": "code",
   "execution_count": null,
   "id": "cd38f119",
   "metadata": {},
   "outputs": [],
   "source": [
    "# Process Document \n",
    "document=process_document()\n",
    "# print all detected text. \n",
    "# All document processors will display the text content\n",
    "print(\"Document processing complete.\")\n",
    "print(\"Text: {}\".format(document.text))"
   ]
  },
  {
   "cell_type": "code",
   "execution_count": null,
   "id": "dc017990",
   "metadata": {},
   "outputs": [],
   "source": [
    "# Get Text Function\n",
    "# Define a function to retrieve an object dictionary for a named element\n",
    "def get_text(doc_element: dict, document: dict):\n",
    "    \"\"\"\n",
    "    Document AI identifies form fields by their offsets\n",
    "    in document text. This function converts offsets\n",
    "    to text snippets.\n",
    "    \"\"\"\n",
    "    response = \"\"\n",
    "    # If a text segment spans several lines, it will\n",
    "    # be stored in different text segments.\n",
    "    for segment in doc_element.text_anchor.text_segments:\n",
    "        start_index = (\n",
    "            int(segment.start_index)\n",
    "            if segment in doc_element.text_anchor.text_segments\n",
    "            else 0\n",
    "        )\n",
    "        end_index = int(segment.end_index)\n",
    "        response += document.text[start_index:end_index]\n",
    "    return response"
   ]
  },
  {
   "cell_type": "code",
   "execution_count": null,
   "id": "a1b7eda0",
   "metadata": {},
   "outputs": [],
   "source": [
    "# Display Form Data \n",
    "# Form data is only detected by some processors such as those that use the General Form parser.\n",
    "document_pages = document.pages\n",
    "print(\"Form data detected:\\n\")\n",
    "# For each page fetch each form field and display fieldname, value and confidence scores\n",
    "for page in document_pages:\n",
    "    print(\"Page Number:{}\".format(page.page_number))\n",
    "    for form_field in page.form_fields:\n",
    "        fieldName=get_text(form_field.field_name,document)\n",
    "        nameConfidence = round(form_field.field_name.confidence,4)\n",
    "        fieldValue = get_text(form_field.field_value,document)\n",
    "        valueConfidence = round(form_field.field_value.confidence,4)\n",
    "        print(fieldName+fieldValue +\"  (Confidence Scores: (Name) \"+str(nameConfidence)+\", (Value) \"+str(valueConfidence)+\")\\n\")\n"
   ]
  },
  {
   "cell_type": "code",
   "execution_count": null,
   "id": "ab584fbe",
   "metadata": {},
   "outputs": [],
   "source": [
    "# Display Entity Data\n",
    "# Entity data is only detected by specialized parsers, such as the Procurement Expense parser.\n",
    "# For each entity print the key/value pair and their corresponding confidence scores.\n",
    "if 'entities' in dir(document):\n",
    "    entities=document.entities\n",
    "    table = PrettyTable(['Type', 'Value', 'Confidence'])\n",
    "    entities_found = 0\n",
    "    for entity in entities:\n",
    "       entity_type = entity.type_\n",
    "       value = entity.mention_text\n",
    "       confidence = round(entity.confidence,4)\n",
    "       table.add_row([entity_type, value, confidence])\n",
    "    print(table)       \n",
    "else:\n",
    "    print(\"Document does not contain entity data.\")"
   ]
  },
  {
   "cell_type": "code",
   "execution_count": null,
   "id": "6fef0cff",
   "metadata": {},
   "outputs": [],
   "source": []
  }
 ],
 "metadata": {
  "environment": {
   "kernel": "python3",
   "name": "common-cpu.m108",
   "type": "gcloud",
   "uri": "gcr.io/deeplearning-platform-release/base-cpu:m108"
  },
  "kernelspec": {
   "display_name": "Python 3",
   "language": "python",
   "name": "python3"
  },
  "language_info": {
   "codemirror_mode": {
    "name": "ipython",
    "version": 3
   },
   "file_extension": ".py",
   "mimetype": "text/x-python",
   "name": "python",
   "nbconvert_exporter": "python",
   "pygments_lexer": "ipython3",
   "version": "3.10.10"
  }
 },
 "nbformat": 4,
 "nbformat_minor": 5
}
